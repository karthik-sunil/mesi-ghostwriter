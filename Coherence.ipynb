{
 "cells": [
  {
   "cell_type": "markdown",
   "metadata": {},
   "source": [
    "# Coherence Traffic Analysis\n",
    "## Migratory Sharing"
   ]
  },
  {
   "cell_type": "code",
   "execution_count": null,
   "metadata": {},
   "outputs": [],
   "source": [
    "import itertools"
   ]
  },
  {
   "cell_type": "markdown",
   "metadata": {},
   "source": [
    "### Functions to generate the all sequences and calculate the average message count"
   ]
  },
  {
   "cell_type": "code",
   "execution_count": 47,
   "metadata": {},
   "outputs": [],
   "source": [
    "\n",
    "def add_loads(permutations_all):\n",
    "    p_all=[]\n",
    "    j=0\n",
    "    for a in permutations_all:\n",
    "        p_all.append([])\n",
    "        for i in range(len(a)*2):\n",
    "            if i%2 !=0:\n",
    "                p_all[j].append(a[int((i-1)/2)])\n",
    "            else:\n",
    "                p_all[j].append(\"l\")\n",
    "        j+=1 \n",
    "    return p_all\n",
    "\n",
    "def generate(N,scribble_percent):\n",
    "    procs = N\n",
    "    elements=[]\n",
    "    for i in range(int(scribble_percent*N)):\n",
    "        elements.append('S')\n",
    "    for i in range(int((1-scribble_percent)*N)):\n",
    "        elements.append('St')\n",
    "    # print(elements) \n",
    "    permutations = itertools.permutations(elements, procs)\n",
    "    permutations_all =  set(permutations) \n",
    "    return permutations_all\n",
    "\n",
    "def find_msg_count(p_all):\n",
    "    messages = []\n",
    "    for p in p_all:\n",
    "        sharers = 0\n",
    "        msg_count = 0\n",
    "        isModified = False\n",
    "        # print(p)\n",
    "        for i in p:\n",
    "            tmp_count = 0\n",
    "            if i == \"l\":\n",
    "                if sharers >= 0 and not isModified:\n",
    "                    sharers += 1\n",
    "                    tmp_count += 2\n",
    "                if isModified:\n",
    "                    sharers += 2\n",
    "                    tmp_count += 4\n",
    "                    isModified = False\n",
    "            if i == \"St\":\n",
    "                tmp_count += (sharers-1)*3\n",
    "                tmp_count += 2\n",
    "                sharers = 0\n",
    "                isModified = True\n",
    "            if i == \"S\":\n",
    "                tmp_count += 0\n",
    "            msg_count += tmp_count\n",
    "            # print(i,tmp_count,msg_count)\n",
    "        messages.append(msg_count)\n",
    "    return messages\n",
    "\n",
    "def find_idx(series,p_all,messages):\n",
    "    tmp = []\n",
    "    for i in range(len(series)*2):\n",
    "        if i%2 !=0:\n",
    "            tmp.append(series[int((i-1)/2)])\n",
    "        else:\n",
    "            tmp.append(\"l\")\n",
    "    idx = p_all.index(tmp)\n",
    "    return messages[idx]\n",
    "\n",
    "def find_mean_msg_count(proc,percent):\n",
    "    k= generate(proc,percent)\n",
    "    p_all = add_loads(k)\n",
    "    messages = find_msg_count(p_all)\n",
    "    return sum(messages)/len(messages)\n",
    "\n"
   ]
  },
  {
   "cell_type": "markdown",
   "metadata": {},
   "source": [
    "Test performed to check correctness"
   ]
  },
  {
   "cell_type": "code",
   "execution_count": 48,
   "metadata": {},
   "outputs": [
    {
     "name": "stdout",
     "output_type": "stream",
     "text": [
      "51\n",
      "49.6\n"
     ]
    }
   ],
   "source": [
    "\n",
    "k= generate(8,0.5)\n",
    "p_all = add_loads(k)\n",
    "messages = find_msg_count(p_all)\n",
    "\n",
    "\n",
    "test = ['St', 'S', 'St', 'St', 'S', 'S', 'S', 'St' ]\n",
    "\n",
    "print(find_idx(test,p_all,messages))\n",
    "\n",
    "print(find_mean_msg_count(8,0.5))\n"
   ]
  },
  {
   "cell_type": "markdown",
   "metadata": {},
   "source": [
    "### calculation of the traffic for various procs and scribble percentages"
   ]
  },
  {
   "cell_type": "code",
   "execution_count": 49,
   "metadata": {},
   "outputs": [
    {
     "data": {
      "text/plain": [
       "[[31.0, 26.75, 22.0, 16.0, 8.0], [67.0, 58.642857142857146, 49.6, 38.5, 16.0]]"
      ]
     },
     "execution_count": 49,
     "metadata": {},
     "output_type": "execute_result"
    }
   ],
   "source": [
    "procs = [4,8]\n",
    "scribble_percentages = [0,0.25,0.5,0.75,1]\n",
    "mean_msg_count_ms = []\n",
    "j=0\n",
    "for proc in procs:\n",
    "    mean_msg_count_ms.append([])\n",
    "    for i in scribble_percentages:\n",
    "        mean_msg_count_ms[j].append(find_mean_msg_count(proc,i))\n",
    "        # x=generate(proc,i)\n",
    "        # print(x)\n",
    "    j+=1\n",
    "mean_msg_count_ms\n"
   ]
  },
  {
   "cell_type": "markdown",
   "metadata": {},
   "source": [
    "## Producer Consmer Sharing\n",
    "\n",
    "### Functions to generate and compute the average message count"
   ]
  },
  {
   "cell_type": "code",
   "execution_count": 53,
   "metadata": {},
   "outputs": [],
   "source": [
    "def generate_pc(N, scribble_percentage):\n",
    "    l = []\n",
    "    permutation = itertools.combinations(range(N),int(N*scribble_percentage))\n",
    "    iter=0\n",
    "    for k in list(permutation):\n",
    "        l.append([])\n",
    "        for i in range(N):\n",
    "            for j in range(N):\n",
    "                if(i==j):\n",
    "                    if(i in k):\n",
    "                        l[iter].append('S')\n",
    "                    else:\n",
    "                        l[iter].append('St')\n",
    "                else:\n",
    "                    l[iter].append('l')\n",
    "        iter+=1\n",
    "    \n",
    "    return l\n",
    "\n",
    "def find_msg_count_pc(p_all,N):\n",
    "    messages = []\n",
    "    for s in p_all:\n",
    "        m=0\n",
    "        sharers = 0\n",
    "        msg_count = 0\n",
    "        isModified = False\n",
    "        sharing_status = [0]*N\n",
    "        for k in range(0,len(s),N):\n",
    "            per_cycle = s[k:k+N]\n",
    "            for i in range(N):\n",
    "                tmp_count = 0\n",
    "                if m >= N:\n",
    "                    m =0\n",
    "                k = i+m\n",
    "                if k >=N:\n",
    "                    k = k%N\n",
    "                \n",
    "                if per_cycle[k] == \"l\":\n",
    "                        if sharers >= 0 and not isModified:\n",
    "                            if(sharing_status[k] == 0):\n",
    "                                sharers += 1\n",
    "                                tmp_count += 2\n",
    "                                sharing_status[k] = 1\n",
    "                        if isModified:\n",
    "                            sharers += 2\n",
    "                            tmp_count += 4\n",
    "                            isModified = False\n",
    "                            sharing_status[k] = 1\n",
    "                            sharing_status[k-1] = 1\n",
    "                if per_cycle[k] == \"St\":\n",
    "                    if sharers >0:\n",
    "                        tmp_count += (sharers-1)*3\n",
    "                    tmp_count += 2\n",
    "                    sharing_status = [0]*N\n",
    "                    sharers = 0\n",
    "                    isModified = True\n",
    "                if per_cycle[k] == \"S\":\n",
    "                    tmp_count += 0\n",
    "                msg_count += tmp_count\n",
    "            m +=1\n",
    "        messages.append(msg_count)\n",
    "    return messages\n",
    "\n",
    "    \n",
    "    \n",
    "def find_mean_msg_count_pc(proc,percent):\n",
    "    k= generate_pc(proc,percent)\n",
    "    messages = find_msg_count_pc(k,proc)\n",
    "    # print(messages)\n",
    "    return sum(messages)/len(messages)\n",
    "\n"
   ]
  },
  {
   "cell_type": "code",
   "execution_count": 54,
   "metadata": {},
   "outputs": [
    {
     "data": {
      "text/plain": [
       "[[67.0, 51.0, 35.833333333333336, 21.5, 8.0],\n",
       " [291.0, 221.17857142857142, 152.07142857142858, 83.67857142857143, 16.0],\n",
       " [1219.0, 921.25, 624.1666666666666, 327.75, 32.0]]"
      ]
     },
     "execution_count": 54,
     "metadata": {},
     "output_type": "execute_result"
    }
   ],
   "source": [
    "procs = [4,8,16]\n",
    "scribble_percentages = [0,0.25,0.5,0.75,1]\n",
    "mean_msg_count = []\n",
    "j=0\n",
    "for proc in procs:\n",
    "    mean_msg_count.append([])\n",
    "    for i in scribble_percentages:\n",
    "        mean_msg_count[j].append(find_mean_msg_count_pc(proc,i))\n",
    "    mean_msg_count[j]\n",
    "    j+=1\n",
    "mean_msg_count"
   ]
  }
 ],
 "metadata": {
  "kernelspec": {
   "display_name": "Python 3",
   "language": "python",
   "name": "python3"
  },
  "language_info": {
   "codemirror_mode": {
    "name": "ipython",
    "version": 3
   },
   "file_extension": ".py",
   "mimetype": "text/x-python",
   "name": "python",
   "nbconvert_exporter": "python",
   "pygments_lexer": "ipython3",
   "version": "3.12.3"
  }
 },
 "nbformat": 4,
 "nbformat_minor": 2
}
